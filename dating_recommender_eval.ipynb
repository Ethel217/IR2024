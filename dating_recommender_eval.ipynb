{
 "cells": [
  {
   "cell_type": "code",
   "execution_count": 143,
   "id": "9d21cf9a-5892-4036-b308-d1ef8dafc5d4",
   "metadata": {},
   "outputs": [],
   "source": [
    "import pandas as pd\n",
    "import numpy as np\n",
    "import json\n",
    "import ast\n",
    "import random\n",
    "from sklearn.neighbors import NearestNeighbors\n",
    "from sklearn.metrics import mean_squared_error\n",
    "from sklearn.metrics import ndcg_score"
   ]
  },
  {
   "cell_type": "code",
   "execution_count": 2,
   "id": "ab41e30a",
   "metadata": {},
   "outputs": [
    {
     "name": "stdout",
     "output_type": "stream",
     "text": [
      "orientation  sex\n",
      "bisexual     f        96\n",
      "             m        32\n",
      "gay          f        68\n",
      "             m       189\n",
      "straight     f      1810\n",
      "             m      2805\n",
      "dtype: int64\n"
     ]
    }
   ],
   "source": [
    "dataset = pd.read_csv(\"dataset/okcupid_profile_data.csv\")\n",
    "dataset.insert(0, 'ID', range(0, len(dataset)))\n",
    "dataset = dataset.head(5000)\n",
    "\n",
    "group_counts = dataset.groupby(['orientation', 'sex']).size()\n",
    "print(group_counts)\n",
    "# dataset['sex'].unique()"
   ]
  },
  {
   "cell_type": "code",
   "execution_count": 3,
   "id": "765f4a33-3ece-438c-baf1-c70a025afc98",
   "metadata": {},
   "outputs": [
    {
     "data": {
      "text/plain": [
       "5000"
      ]
     },
     "execution_count": 3,
     "metadata": {},
     "output_type": "execute_result"
    }
   ],
   "source": [
    "comp_scores = \"dataset/compatibility_5k.json\"\n",
    "with open(comp_scores) as f:\n",
    "    comp_scores = json.loads(f.read())\n",
    "\n",
    "def get_dict(row):\n",
    "    index = [random.randint(0, 9999) for _ in range(50)]\n",
    "    score = [random.random() for _ in range(50)]\n",
    "    return comp_scores.get(str(row['ID']), {'index':index, 'score':score})\n",
    "\n",
    "# Adding new column with corresponding dictionary\n",
    "dataset['top_compatible'] = dataset.apply(get_dict, axis=1)\n",
    "test_dataset = dataset[dataset['top_compatible'] != {}]\n",
    "len(test_dataset)"
   ]
  },
  {
   "cell_type": "code",
   "execution_count": 5,
   "id": "00ae1692-44ef-4b40-a17b-96b8c0134b79",
   "metadata": {},
   "outputs": [],
   "source": [
    "og_rating_matrix = np.zeros((len(test_dataset),len(test_dataset)))\n",
    "rating_matrix = np.zeros((len(test_dataset),len(test_dataset)))"
   ]
  },
  {
   "cell_type": "code",
   "execution_count": 6,
   "id": "d3756f98-07a5-4649-902f-7a76bb614741",
   "metadata": {},
   "outputs": [
    {
     "name": "stdout",
     "output_type": "stream",
     "text": [
      "[[0. 0. 0. ... 0. 0. 0.]\n",
      " [0. 0. 0. ... 0. 0. 0.]\n",
      " [0. 0. 0. ... 0. 0. 0.]\n",
      " ...\n",
      " [0. 0. 0. ... 0. 0. 0.]\n",
      " [0. 0. 0. ... 0. 0. 0.]\n",
      " [0. 0. 0. ... 0. 0. 0.]]\n"
     ]
    }
   ],
   "source": [
    "# Populate the ORIGINAL compatibility matrix\n",
    "for idx, row in test_dataset.iterrows():\n",
    "    user_id = row['ID']\n",
    "    compatibilities = row['top_compatible']\n",
    "    \n",
    "    for compatible_id, score in zip(compatibilities['index'], compatibilities['score']):\n",
    "        og_rating_matrix[user_id][compatible_id] = score\n",
    "        og_rating_matrix[compatible_id][user_id] = score\n",
    "\n",
    "for i in range(len(test_dataset)):\n",
    "    og_rating_matrix[i][i] = 0\n",
    "\n",
    "print(og_rating_matrix)"
   ]
  },
  {
   "cell_type": "code",
   "execution_count": 7,
   "id": "2f807e9c",
   "metadata": {},
   "outputs": [
    {
     "name": "stdout",
     "output_type": "stream",
     "text": [
      "[[0. 0. 0. ... 0. 0. 0.]\n",
      " [0. 0. 0. ... 0. 0. 0.]\n",
      " [0. 0. 0. ... 0. 0. 0.]\n",
      " ...\n",
      " [0. 0. 0. ... 0. 0. 0.]\n",
      " [0. 0. 0. ... 0. 0. 0.]\n",
      " [0. 0. 0. ... 0. 0. 0.]]\n"
     ]
    }
   ],
   "source": [
    "# Populate the compatibility matrix TO USE\n",
    "for idx, row in test_dataset.iterrows():\n",
    "    user_id = row['ID']\n",
    "    compatibilities = row['top_compatible']\n",
    "    \n",
    "    for compatible_id, score in zip(compatibilities['index'][:10], compatibilities['score'][:10]):\n",
    "        rating_matrix[user_id][compatible_id] = score\n",
    "        rating_matrix[compatible_id][user_id] = score\n",
    "\n",
    "for i in range(len(test_dataset)):\n",
    "    rating_matrix[i][i] = 0\n",
    "\n",
    "print(rating_matrix)"
   ]
  },
  {
   "cell_type": "code",
   "execution_count": 8,
   "id": "8c9b64ba-b73f-45dc-a4f3-cb8353ab55f4",
   "metadata": {},
   "outputs": [],
   "source": [
    "def predict_ratings(user_item_matrix, target_user_index, X, n_neighbors=20, n_recommendations=10):\n",
    "    \"\"\"\n",
    "    Predict ratings for all items for a specific user using a modified k-NN approach\n",
    "    that excludes the first X closest neighbors.\n",
    "\n",
    "    Parameters:\n",
    "    - user_item_matrix: 2D numpy array with rows as users and columns as items. Cell values are ratings.\n",
    "    - target_user_index: Index of the target user for whom we want to predict ratings.\n",
    "    - X: Number of closest neighbors to exclude.\n",
    "    - n_neighbors: Number of neighbors to consider for prediction after excluding the first X.\n",
    "\n",
    "    Returns:\n",
    "    - predicted_ratings: A numpy array with the predicted ratings for each item.\n",
    "    \"\"\"\n",
    "    \n",
    "    # Ensure n_neighbors is less than the number of users minus the ones we skip\n",
    "    total_users = user_item_matrix.shape[0]\n",
    "    if n_neighbors + X >= total_users:\n",
    "        raise ValueError(\"n_neighbors + X must be less than the total number of users.\")\n",
    "\n",
    "    # Initialize NearestNeighbors\n",
    "    nbrs = NearestNeighbors(n_neighbors=n_neighbors+X+1, metric='euclidean')\n",
    "    nbrs.fit(user_item_matrix)\n",
    "\n",
    "    # Find the nearest neighbors (including the user itself)\n",
    "    distances, indices = nbrs.kneighbors(user_item_matrix[target_user_index].reshape(1, -1))\n",
    "    # print(distances, indices)\n",
    "    if(n_neighbors + X > len(indices[0])):\n",
    "        print(f\"could not find enough neighbours... only {len(indices[0])} could be found :(\")\n",
    "        return\n",
    "    \n",
    "    # Exclude the first X+1 closest neighbors to skip the user itself and the X closest neighbors\n",
    "    relevant_indices = indices.flatten()[X+1:]\n",
    "    relevant_distances = distances.flatten()[X+1:]\n",
    "    # print(\"relevant_indices: \", relevant_indices)\n",
    "    # print(\"relevant_distances: \", relevant_distances)\n",
    "    \n",
    "    # Initialize predictions array with zeros\n",
    "    predicted_ratings = np.zeros(user_item_matrix.shape[1])\n",
    "    \n",
    "    # Calculate predictions for each item\n",
    "    for item_index in range(user_item_matrix.shape[1]):\n",
    "        # Skip if the user has already rated this item\n",
    "        if user_item_matrix[target_user_index, item_index] > 0:\n",
    "            continue\n",
    "    \n",
    "        # Aggregate ratings from neighbors for this item\n",
    "        total_rating = 0\n",
    "        total_weight = 0\n",
    "        for i,neighbor_index in enumerate(relevant_indices):\n",
    "            neighbor_rating = user_item_matrix[neighbor_index, item_index]\n",
    "            if neighbor_rating > 0:\n",
    "                # Use inverse distance as weight, add a small epsilon to avoid division by zero\n",
    "                # print(i, neighbor_index, len(relevant_distances))\n",
    "                weight = 1 / (relevant_distances[i] + 1e-5)\n",
    "                total_rating += neighbor_rating * weight\n",
    "                total_weight += weight\n",
    "    \n",
    "        # Predict rating if there are neighbors who rated this item\n",
    "        if total_weight > 0:\n",
    "            predicted_ratings[item_index] = total_rating / total_weight\n",
    "\n",
    "    recommendations = {}\n",
    "\n",
    "    for i,rating in enumerate(predicted_ratings):\n",
    "        if(rating > 0):\n",
    "            recommendations[i] = rating\n",
    "    \n",
    "    top_recommendations = dict(sorted(recommendations.items(), key=lambda item: item[1], reverse=True)[:n_recommendations])\n",
    "\n",
    "    return top_recommendations"
   ]
  },
  {
   "cell_type": "code",
   "execution_count": 22,
   "id": "46dbec1f-b0e5-4698-8311-ec274f89ecba",
   "metadata": {},
   "outputs": [
    {
     "name": "stdout",
     "output_type": "stream",
     "text": [
      "{2546: 0.4000639336588939, 3326: 0.3785120093869527, 1919: 0.3754953822642921, 510: 0.374913654250061, 819: 0.37453978153230283, 3383: 0.37417344990423734, 1448: 0.3696381774739505, 1838: 0.36533397642703225, 3125: 0.35977615932354995, 2705: 0.359621148457998, 109: 0.3574145057269234, 2479: 0.3574145057269234, 2213: 0.35703479932482507, 4342: 0.35703479932482507, 3917: 0.35620211294930565, 4650: 0.3559664367735224, 2199: 0.35564546750558135, 3467: 0.35534909083091554, 3041: 0.35358170309784437, 2170: 0.35353446301304725, 272: 0.3532579671606447, 1477: 0.3512783648513138, 3185: 0.3505350389173542, 695: 0.3499487828207367, 2042: 0.3498448191532034, 3796: 0.3494616328578646, 799: 0.3494280274653218, 1446: 0.34939669916315946, 3238: 0.34791394088549166, 4790: 0.347351546618459, 3718: 0.34663523937574797, 1735: 0.3457003427932689, 3429: 0.345649229721008, 4534: 0.3456322884048714, 1869: 0.345462190031814, 3: 0.34528835716008743, 1417: 0.34527009344247217, 1469: 0.34500745713087494, 825: 0.3448002660591336, 1082: 0.3445212088632734, 391: 0.3431748039997184, 694: 0.3431748039997184, 4890: 0.3429593912847205, 2728: 0.34187367204791463, 3648: 0.34120131280230886, 924: 0.3407940037848429, 4109: 0.3396191818718001, 1692: 0.33935963069212194, 1348: 0.3373448997908982, 852: 0.33670856755495127}\n"
     ]
    }
   ],
   "source": [
    "top_recommendations_s = predict_ratings(rating_matrix, 0, 10, 60, 50) #with serendipity\n",
    "print(top_recommendations_s)"
   ]
  },
  {
   "cell_type": "code",
   "execution_count": 26,
   "id": "cbfb171c-9b36-4d66-b028-d1b935a6cd01",
   "metadata": {},
   "outputs": [
    {
     "name": "stdout",
     "output_type": "stream",
     "text": [
      "{3326: 0.3785120093869527, 819: 0.37453978153230283, 3383: 0.37417344990423734, 1448: 0.3696381774739505, 3917: 0.3611838390725039, 2705: 0.359621148457998, 3467: 0.3582110318668064, 109: 0.3574145057269234, 2479: 0.3574145057269234, 2213: 0.35703479932482507, 4342: 0.35703479932482507, 2199: 0.35564546750558135, 1477: 0.35401440089687874, 3041: 0.35358170309784437, 2170: 0.35353446301304725, 391: 0.35294117647058826, 694: 0.35294117647058826, 3185: 0.35110594645247517, 695: 0.3499487828207367, 2042: 0.3498448191532034}\n",
      "{3917: 0.38406434084614316, 3185: 0.3824058831861537, 3308: 0.37944040479394364, 2170: 0.3787072866550178, 799: 0.3786993745854057, 1446: 0.3786694732152871, 3041: 0.378593836500585, 3326: 0.3785120093869527, 819: 0.37453978153230283, 3383: 0.37417344990423734, 241: 0.3737901799469377, 2119: 0.37358730671843837, 3999: 0.37358730671843837, 911: 0.37339899484968553, 273: 0.369915619158906, 1448: 0.3696381774739505, 1477: 0.36516397145269286, 3467: 0.3648941138971157, 223: 0.3640033443120392, 4688: 0.3602720713780302}\n"
     ]
    }
   ],
   "source": [
    "top_recommendations_s = predict_ratings(rating_matrix, 0, 10, 30, 20) #with serendipity\n",
    "print(top_recommendations_s)\n",
    "top_recommendations = predict_ratings(rating_matrix, 0, 0, 20, 20) #without serendipity\n",
    "print(top_recommendations)"
   ]
  },
  {
   "cell_type": "code",
   "execution_count": 32,
   "id": "9d7ac32a-c325-4b0d-b141-54b5abb54b44",
   "metadata": {},
   "outputs": [
    {
     "data": {
      "text/html": [
       "<div>\n",
       "<style scoped>\n",
       "    .dataframe tbody tr th:only-of-type {\n",
       "        vertical-align: middle;\n",
       "    }\n",
       "\n",
       "    .dataframe tbody tr th {\n",
       "        vertical-align: top;\n",
       "    }\n",
       "\n",
       "    .dataframe thead th {\n",
       "        text-align: right;\n",
       "    }\n",
       "</style>\n",
       "<table border=\"1\" class=\"dataframe\">\n",
       "  <thead>\n",
       "    <tr style=\"text-align: right;\">\n",
       "      <th></th>\n",
       "      <th>ID</th>\n",
       "      <th>scores</th>\n",
       "    </tr>\n",
       "  </thead>\n",
       "  <tbody>\n",
       "    <tr>\n",
       "      <th>0</th>\n",
       "      <td>0</td>\n",
       "      <td>{3326: 0.3785120093869527, 819: 0.374539781532...</td>\n",
       "    </tr>\n",
       "    <tr>\n",
       "      <th>1</th>\n",
       "      <td>1</td>\n",
       "      <td>{3468: 0.40364603521503745, 2989: 0.4028731378...</td>\n",
       "    </tr>\n",
       "    <tr>\n",
       "      <th>2</th>\n",
       "      <td>2</td>\n",
       "      <td>{4342: 0.3767480246888364, 2213: 0.37569636824...</td>\n",
       "    </tr>\n",
       "    <tr>\n",
       "      <th>3</th>\n",
       "      <td>3</td>\n",
       "      <td>{4448: 0.36025621693398535, 3245: 0.3547693906...</td>\n",
       "    </tr>\n",
       "    <tr>\n",
       "      <th>4</th>\n",
       "      <td>4</td>\n",
       "      <td>{1254: 0.38124031124909735, 3176: 0.3803370972...</td>\n",
       "    </tr>\n",
       "  </tbody>\n",
       "</table>\n",
       "</div>"
      ],
      "text/plain": [
       "   ID                                             scores\n",
       "0   0  {3326: 0.3785120093869527, 819: 0.374539781532...\n",
       "1   1  {3468: 0.40364603521503745, 2989: 0.4028731378...\n",
       "2   2  {4342: 0.3767480246888364, 2213: 0.37569636824...\n",
       "3   3  {4448: 0.36025621693398535, 3245: 0.3547693906...\n",
       "4   4  {1254: 0.38124031124909735, 3176: 0.3803370972..."
      ]
     },
     "execution_count": 32,
     "metadata": {},
     "output_type": "execute_result"
    }
   ],
   "source": [
    "results_serendipity = {}\n",
    "for i in range(len(test_dataset)):\n",
    "    results_serendipity[i] = predict_ratings(rating_matrix, i, 10, 30, 20) #with serendipity\n",
    "\n",
    "results_serendipity_df = pd.DataFrame(results_serendipity.items(), columns=['ID', 'scores_with_serendipity'])\n",
    "results_serendipity_df.head()"
   ]
  },
  {
   "cell_type": "code",
   "execution_count": 31,
   "id": "8e1b7cd2-8ce8-40a9-90b3-39e069bc2af6",
   "metadata": {},
   "outputs": [
    {
     "data": {
      "text/html": [
       "<div>\n",
       "<style scoped>\n",
       "    .dataframe tbody tr th:only-of-type {\n",
       "        vertical-align: middle;\n",
       "    }\n",
       "\n",
       "    .dataframe tbody tr th {\n",
       "        vertical-align: top;\n",
       "    }\n",
       "\n",
       "    .dataframe thead th {\n",
       "        text-align: right;\n",
       "    }\n",
       "</style>\n",
       "<table border=\"1\" class=\"dataframe\">\n",
       "  <thead>\n",
       "    <tr style=\"text-align: right;\">\n",
       "      <th></th>\n",
       "      <th>ID</th>\n",
       "      <th>scores_wo_serendipity</th>\n",
       "    </tr>\n",
       "  </thead>\n",
       "  <tbody>\n",
       "    <tr>\n",
       "      <th>0</th>\n",
       "      <td>0</td>\n",
       "      <td>{3917: 0.38406434084614316, 3185: 0.3824058831...</td>\n",
       "    </tr>\n",
       "    <tr>\n",
       "      <th>1</th>\n",
       "      <td>1</td>\n",
       "      <td>{2857: 0.37889702227935546, 2409: 0.3774439090...</td>\n",
       "    </tr>\n",
       "    <tr>\n",
       "      <th>2</th>\n",
       "      <td>2</td>\n",
       "      <td>{347: 0.37504157037857033, 1597: 0.37298791244...</td>\n",
       "    </tr>\n",
       "    <tr>\n",
       "      <th>3</th>\n",
       "      <td>3</td>\n",
       "      <td>{381: 0.3875333601955412, 1828: 0.386575334678...</td>\n",
       "    </tr>\n",
       "    <tr>\n",
       "      <th>4</th>\n",
       "      <td>4</td>\n",
       "      <td>{2560: 0.3812612864740654, 1254: 0.38124031124...</td>\n",
       "    </tr>\n",
       "  </tbody>\n",
       "</table>\n",
       "</div>"
      ],
      "text/plain": [
       "   ID                              scores_wo_serendipity\n",
       "0   0  {3917: 0.38406434084614316, 3185: 0.3824058831...\n",
       "1   1  {2857: 0.37889702227935546, 2409: 0.3774439090...\n",
       "2   2  {347: 0.37504157037857033, 1597: 0.37298791244...\n",
       "3   3  {381: 0.3875333601955412, 1828: 0.386575334678...\n",
       "4   4  {2560: 0.3812612864740654, 1254: 0.38124031124..."
      ]
     },
     "execution_count": 31,
     "metadata": {},
     "output_type": "execute_result"
    }
   ],
   "source": [
    "results_wo_serendipity = {}\n",
    "for i in range(len(test_dataset)):\n",
    "    results_wo_serendipity[i] = predict_ratings(rating_matrix, i, 0, 20, 20) #without serendipity\n",
    "\n",
    "results_wo_serendipity_df = pd.DataFrame(results_wo_serendipity.items(), columns=['ID', 'scores_without_serendipity'])\n",
    "results_wo_serendipity_df.head()"
   ]
  },
  {
   "cell_type": "code",
   "execution_count": 67,
   "id": "7d6792f5-726a-4680-9b64-0bddaa8555b9",
   "metadata": {},
   "outputs": [
    {
     "name": "stdout",
     "output_type": "stream",
     "text": [
      "        ID                      Original_Compatibility_Scores\n",
      "0        0  {3916: 0.404574517131177, 786: 0.4005645957215...\n",
      "1        1  {896: 0.40955449736165245, 2127: 0.40863726632...\n",
      "2        2  {4264: 0.4048764780749057, 4745: 0.40487647807...\n",
      "3        3  {1827: 0.36888572989623986, 4930: 0.3652856970...\n",
      "4        4  {2328: 0.40846110821772325, 2261: 0.4084468473...\n",
      "...    ...                                                ...\n",
      "4995  4995  {34: 0.34947783312687497, 3578: 0.349306202124...\n",
      "4996  4996  {3317: 0.3801343320274302, 2244: 0.37996413459...\n",
      "4997  4997  {2448: 0.4089048901031154, 477: 0.404827391525...\n",
      "4998  4998  {1238: 0.40453592405476707, 2017: 0.4045077953...\n",
      "4999  4999  {587: 0.3798193194696908, 804: 0.3791391765241...\n",
      "\n",
      "[5000 rows x 2 columns]\n"
     ]
    }
   ],
   "source": [
    "rows = []\n",
    "for key, value in comp_scores.items():\n",
    "    row = {'ID': int(key)}\n",
    "    index_score_dict = {idx: score for idx, score in zip(value['index'], value['score'])}\n",
    "    row['Original_Compatibility_Scores'] = index_score_dict\n",
    "    rows.append(row)\n",
    "\n",
    "\n",
    "# Create DataFrame\n",
    "original_score_df = pd.DataFrame(rows)\n",
    "original_score_df.head()\n",
    "print(original_score_df)"
   ]
  },
  {
   "cell_type": "code",
   "execution_count": 52,
   "id": "1d52ce69-1f48-4162-a862-e5c60fa143b1",
   "metadata": {},
   "outputs": [],
   "source": [
    "merged_df = results_serendipity_df.merge(results_wo_serendipity_df, on='ID')\n",
    "merged_df = merged_df.merge(original_score_df, on='ID')\n",
    "\n",
    "merged_df.to_csv(\"dataset/recommendations_all.csv\", index=False)"
   ]
  },
  {
   "cell_type": "code",
   "execution_count": 78,
   "id": "cb3bd59d-3d10-45df-9e8f-7a4d04255db6",
   "metadata": {},
   "outputs": [
    {
     "data": {
      "text/html": [
       "<div>\n",
       "<style scoped>\n",
       "    .dataframe tbody tr th:only-of-type {\n",
       "        vertical-align: middle;\n",
       "    }\n",
       "\n",
       "    .dataframe tbody tr th {\n",
       "        vertical-align: top;\n",
       "    }\n",
       "\n",
       "    .dataframe thead th {\n",
       "        text-align: right;\n",
       "    }\n",
       "</style>\n",
       "<table border=\"1\" class=\"dataframe\">\n",
       "  <thead>\n",
       "    <tr style=\"text-align: right;\">\n",
       "      <th></th>\n",
       "      <th>ID</th>\n",
       "      <th>scores</th>\n",
       "      <th>scores_wo_serendipity</th>\n",
       "      <th>Original_Compatibility_Scores</th>\n",
       "    </tr>\n",
       "  </thead>\n",
       "  <tbody>\n",
       "    <tr>\n",
       "      <th>0</th>\n",
       "      <td>0</td>\n",
       "      <td>{3326: 0.3785120093869527, 819: 0.374539781532...</td>\n",
       "      <td>{3917: 0.38406434084614316, 3185: 0.3824058831...</td>\n",
       "      <td>{3916: 0.404574517131177, 786: 0.4005645957215...</td>\n",
       "    </tr>\n",
       "    <tr>\n",
       "      <th>1</th>\n",
       "      <td>1</td>\n",
       "      <td>{3468: 0.40364603521503745, 2989: 0.4028731378...</td>\n",
       "      <td>{2857: 0.37889702227935546, 2409: 0.3774439090...</td>\n",
       "      <td>{896: 0.40955449736165245, 2127: 0.40863726632...</td>\n",
       "    </tr>\n",
       "    <tr>\n",
       "      <th>2</th>\n",
       "      <td>2</td>\n",
       "      <td>{4342: 0.3767480246888364, 2213: 0.37569636824...</td>\n",
       "      <td>{347: 0.37504157037857033, 1597: 0.37298791244...</td>\n",
       "      <td>{4264: 0.4048764780749057, 4745: 0.40487647807...</td>\n",
       "    </tr>\n",
       "    <tr>\n",
       "      <th>3</th>\n",
       "      <td>3</td>\n",
       "      <td>{4448: 0.36025621693398535, 3245: 0.3547693906...</td>\n",
       "      <td>{381: 0.3875333601955412, 1828: 0.386575334678...</td>\n",
       "      <td>{1827: 0.36888572989623986, 4930: 0.3652856970...</td>\n",
       "    </tr>\n",
       "    <tr>\n",
       "      <th>4</th>\n",
       "      <td>4</td>\n",
       "      <td>{1254: 0.38124031124909735, 3176: 0.3803370972...</td>\n",
       "      <td>{2560: 0.3812612864740654, 1254: 0.38124031124...</td>\n",
       "      <td>{2328: 0.40846110821772325, 2261: 0.4084468473...</td>\n",
       "    </tr>\n",
       "  </tbody>\n",
       "</table>\n",
       "</div>"
      ],
      "text/plain": [
       "   ID                                             scores  \\\n",
       "0   0  {3326: 0.3785120093869527, 819: 0.374539781532...   \n",
       "1   1  {3468: 0.40364603521503745, 2989: 0.4028731378...   \n",
       "2   2  {4342: 0.3767480246888364, 2213: 0.37569636824...   \n",
       "3   3  {4448: 0.36025621693398535, 3245: 0.3547693906...   \n",
       "4   4  {1254: 0.38124031124909735, 3176: 0.3803370972...   \n",
       "\n",
       "                               scores_wo_serendipity  \\\n",
       "0  {3917: 0.38406434084614316, 3185: 0.3824058831...   \n",
       "1  {2857: 0.37889702227935546, 2409: 0.3774439090...   \n",
       "2  {347: 0.37504157037857033, 1597: 0.37298791244...   \n",
       "3  {381: 0.3875333601955412, 1828: 0.386575334678...   \n",
       "4  {2560: 0.3812612864740654, 1254: 0.38124031124...   \n",
       "\n",
       "                       Original_Compatibility_Scores  \n",
       "0  {3916: 0.404574517131177, 786: 0.4005645957215...  \n",
       "1  {896: 0.40955449736165245, 2127: 0.40863726632...  \n",
       "2  {4264: 0.4048764780749057, 4745: 0.40487647807...  \n",
       "3  {1827: 0.36888572989623986, 4930: 0.3652856970...  \n",
       "4  {2328: 0.40846110821772325, 2261: 0.4084468473...  "
      ]
     },
     "execution_count": 78,
     "metadata": {},
     "output_type": "execute_result"
    }
   ],
   "source": [
    "scores_df = pd.read_csv(\"dataset/recommendations_all.csv\")\n",
    "scores_df.head()\n",
    "# scores_df.columns"
   ]
  },
  {
   "cell_type": "code",
   "execution_count": 141,
   "id": "6b06cff4-f238-4391-b445-837994da77ec",
   "metadata": {},
   "outputs": [],
   "source": [
    "def calc_rmse(scores_df, no_of_recs):\n",
    "    mse_values_spty = []\n",
    "    mse_values_wo_spty = []\n",
    "    for row in scores_df.itertuples():\n",
    "        original_scores = ast.literal_eval(row.Original_Compatibility_Scores)\n",
    "        predicted_scores_spty = ast.literal_eval(row.scores)\n",
    "        predicted_scored_wo_spty = ast.literal_eval(row.scores_wo_serendipity)\n",
    "        squared_diff_sum_spty = 0\n",
    "        squared_diff_sum_wo_spty = 0\n",
    "        for id, predict in predicted_scores_spty.items():\n",
    "            original_score = original_scores.get(id, 0.0)\n",
    "            squared_diff_sum_spty += (predict - original_score) ** 2\n",
    "\n",
    "        for id, predict in predicted_scored_wo_spty.items():\n",
    "            original_score = original_scores.get(id, 0.0)\n",
    "            squared_diff_sum_wo_spty += (predict - original_score) ** 2\n",
    "        \n",
    "        mse_spty = squared_diff_sum_spty / no_of_recs\n",
    "        mse_values_spty.append(mse_spty)\n",
    "\n",
    "        mse_wo_spty = squared_diff_sum_wo_spty / no_of_recs\n",
    "        mse_values_wo_spty.append(mse_wo_spty)\n",
    "    \n",
    "    # Calculate average RMSE\n",
    "    average_rmse_spty = np.sqrt(np.mean(mse_values_spty))\n",
    "    average_rmse_wo_spty = np.sqrt(np.mean(mse_values_wo_spty))\n",
    "    \n",
    "    # print(\"RMSE values with serendipity:\", rmse_values_spty)\n",
    "    # print(\"RMSE values without serendipity:\", rmse_values_wo_spty)\n",
    "    # print(\"Average RMSE with serendipity:\", average_rmse_spty)\n",
    "    # print(\"Average RMSE without serendipity:\", average_rmse_wo_spty)\n",
    "    return average_rmse_spty, average_rmse_wo_spty"
   ]
  },
  {
   "cell_type": "code",
   "execution_count": 174,
   "id": "a9122b76-7734-4658-b61f-7f1ba5f275c8",
   "metadata": {},
   "outputs": [
    {
     "name": "stdout",
     "output_type": "stream",
     "text": [
      "RMSE with serendipity =  0.2757859597632517\n",
      "RMSE without serendipity =  0.265034329036201\n"
     ]
    }
   ],
   "source": [
    "rmse_spty, rmse_wo_spty = calc_rmse(scores_df, 20)\n",
    "print(\"RMSE with serendipity = \", rmse_spty)\n",
    "print(\"RMSE without serendipity = \",rmse_wo_spty)"
   ]
  },
  {
   "cell_type": "code",
   "execution_count": 168,
   "id": "59eb52e3-af39-4400-9001-1acac236911a",
   "metadata": {},
   "outputs": [],
   "source": [
    "def calc_ndcg_at_k(scores_df, k):\n",
    "    ndcg_spty = []\n",
    "    ndcg_wo_spty = []\n",
    "    for row in scores_df.itertuples():\n",
    "        original_scores = ast.literal_eval(row.Original_Compatibility_Scores)\n",
    "        predicted_scores_spty = ast.literal_eval(row.scores)\n",
    "        predicted_scored_wo_spty = ast.literal_eval(row.scores_wo_serendipity)\n",
    "        # print(original_scores)\n",
    "        # print(predicted_scores_spty)\n",
    "        # print(predicted_scored_wo_spty)\n",
    "        row_scores_act_spty = []\n",
    "        row_scores_act_wo_spty = []\n",
    "        for id, predict in predicted_scores_spty.items():\n",
    "            original_score = original_scores.get(id, 0.0)\n",
    "            row_scores_act_spty.append(original_score)\n",
    "        \n",
    "        for id, predict in predicted_scored_wo_spty.items():\n",
    "            original_score = original_scores.get(id, 0.0)\n",
    "            row_scores_act_wo_spty.append(original_score)\n",
    "\n",
    "        row_scores_act_spty = row_scores_act_spty[:k]\n",
    "        row_score_true_spty = sorted(row_scores_act_spty, reverse=True)\n",
    "        # print(row_scores_act_spty)\n",
    "        # print(row_score_true_spty)\n",
    "\n",
    "        row_scores_act_wo_spty = row_scores_act_wo_spty[:k]\n",
    "        row_score_true_wo_spty = sorted(row_scores_act_wo_spty, reverse=True)\n",
    "        # print(row_scores_act_wo_spty)\n",
    "        # print(row_score_true_wo_spty)\n",
    "\n",
    "        row_ndcg_spty = ndcg_score(np.asarray([row_score_true_spty]), np.asarray([row_scores_act_spty]))\n",
    "        row_ndcg_wo_spty = ndcg_score(np.asarray([row_score_true_wo_spty]), np.asarray([row_scores_act_wo_spty]))\n",
    "\n",
    "        ndcg_spty.append(row_ndcg_spty)\n",
    "        ndcg_wo_spty.append(row_ndcg_wo_spty)\n",
    "\n",
    "    average_ndcg_spty = np.mean(ndcg_spty) \n",
    "    average_ndcg_wo_spty = np.mean(ndcg_wo_spty)\n",
    "\n",
    "    return average_ndcg_spty, average_ndcg_wo_spty\n"
   ]
  },
  {
   "cell_type": "code",
   "execution_count": 176,
   "id": "f44a0a50-e152-4eaf-bd6b-07fe314db9e2",
   "metadata": {},
   "outputs": [
    {
     "name": "stdout",
     "output_type": "stream",
     "text": [
      "[0.3, 0.2, 0, 1]\n",
      "[1, 1, 0, 1]\n"
     ]
    }
   ],
   "source": [
    "# new_df = scores_df.head()\n",
    "ndcg_spty, ndcg_wo_spty = calc_ndcg_at_k(scores_df, 5)\n",
    "print(\"Print ndcg@5 with serendipity =\", ndcg_spty)\n",
    "print(\"Print ndcg@5 without serendipity  =\", ndcg_wo_spty)\n",
    "\n",
    "ndcg_spty, ndcg_wo_spty = calc_ndcg_at_k(scores_df, 10)\n",
    "print(\"Print ndcg@10 with serendipity  =\", ndcg_spty)\n",
    "print(\"Print ndcg@10 without serendipity  =\", ndcg_wo_spty)\n",
    "\n",
    "ndcg_spty, ndcg_wo_spty = calc_ndcg_at_k(scores_df, 15)\n",
    "print(\"Print ndcg@15 with serendipity  =\", ndcg_spty)\n",
    "print(\"Print ndcg@15 without serendipity  =\", ndcg_wo_spty)\n",
    "\n",
    "ndcg_spty, ndcg_wo_spty = calc_ndcg_at_k(scores_df, 20)\n",
    "print(\"Print ndcg@20 with serendipity  =\", ndcg_spty)\n",
    "print(\"Print ndcg@20 without serendipity  =\", ndcg_wo_spty)"
   ]
  },
  {
   "cell_type": "code",
   "execution_count": 181,
   "id": "cd038f46-e330-46f0-b2d9-64932a09dbb9",
   "metadata": {},
   "outputs": [],
   "source": [
    "def calc_precision_at_k(scores_df, k):\n",
    "    prec_spty = []\n",
    "    prec_wo_spty = []\n",
    "    for row in scores_df.itertuples():\n",
    "        original_scores = ast.literal_eval(row.Original_Compatibility_Scores)\n",
    "        predicted_scores_spty = ast.literal_eval(row.scores)\n",
    "        predicted_scored_wo_spty = ast.literal_eval(row.scores_wo_serendipity)\n",
    "        # print(original_scores)\n",
    "        # print(predicted_scores_spty)\n",
    "        # print(predicted_scored_wo_spty)\n",
    "        row_prec_spty = []\n",
    "        row_prec_wo_spty = []\n",
    "        for id, predict in predicted_scores_spty.items():\n",
    "            original_score = original_scores.get(id, 0)\n",
    "            row_prec_spty.append(original_score)\n",
    "        \n",
    "        for id, predict in predicted_scored_wo_spty.items():\n",
    "            original_score = original_scores.get(id, 0)\n",
    "            row_prec_wo_spty.append(original_score)\n",
    "\n",
    "        row_prec_spty = row_prec_spty[:k]\n",
    "        row_prec_spty = [1 if k > 0 else 0 for k in row_prec_spty]\n",
    "        row_prec_spty = sum(row_prec_spty)/k\n",
    "        # print(row_prec_spty)\n",
    "        # print(row_score_true_spty)\n",
    "\n",
    "        row_prec_wo_spty = row_prec_wo_spty[:k]\n",
    "        row_prec_wo_spty = [1 if k > 0 else 0 for k in row_prec_wo_spty]\n",
    "        row_prec_wo_spty = sum(row_prec_wo_spty)/k\n",
    "        # print(row_prec_wo_spty)\n",
    "        # print(row_score_true_wo_spty)\n",
    "\n",
    "        prec_spty.append(row_prec_spty)\n",
    "        prec_wo_spty.append(row_prec_wo_spty)\n",
    "\n",
    "    average_prec_spty = np.mean(prec_spty) \n",
    "    average_prec_wo_spty = np.mean(prec_wo_spty)\n",
    "\n",
    "    return average_prec_spty, average_prec_wo_spty\n"
   ]
  },
  {
   "cell_type": "code",
   "execution_count": 182,
   "id": "03a115cb-ba9c-449a-8800-6887da26c38e",
   "metadata": {},
   "outputs": [
    {
     "name": "stdout",
     "output_type": "stream",
     "text": [
      "Print prec@5 with serendipity = 0.50388\n",
      "Print prec@5 without serendipity  = 0.58116\n",
      "Print prec@10 with serendipity  = 0.45498\n",
      "Print prec@10 without serendipity  = 0.5241399999999999\n",
      "Print prec@15 with serendipity  = 0.40954666666666667\n",
      "Print prec@15 without serendipity  = 0.46588\n",
      "Print prec@20 with serendipity  = 0.37051000000000006\n",
      "Print prec@20 without serendipity  = 0.4154\n"
     ]
    }
   ],
   "source": [
    "# new_df = scores_df.head()\n",
    "prec_spty, prec_wo_spty = calc_precision_at_k(scores_df, 5)\n",
    "print(\"Print prec@5 with serendipity =\", prec_spty)\n",
    "print(\"Print prec@5 without serendipity  =\", prec_wo_spty)\n",
    "\n",
    "prec_spty, prec_wo_spty = calc_precision_at_k(scores_df, 10)\n",
    "print(\"Print prec@10 with serendipity  =\", prec_spty)\n",
    "print(\"Print prec@10 without serendipity  =\", prec_wo_spty)\n",
    "\n",
    "prec_spty, prec_wo_spty = calc_precision_at_k(scores_df, 15)\n",
    "print(\"Print prec@15 with serendipity  =\", prec_spty)\n",
    "print(\"Print prec@15 without serendipity  =\", prec_wo_spty)\n",
    "\n",
    "prec_spty, prec_wo_spty = calc_precision_at_k(scores_df, 20)\n",
    "print(\"Print prec@20 with serendipity  =\", prec_spty)\n",
    "print(\"Print prec@20 without serendipity  =\", prec_wo_spty)"
   ]
  }
 ],
 "metadata": {
  "kernelspec": {
   "display_name": "Python 3 (ipykernel)",
   "language": "python",
   "name": "python3"
  },
  "language_info": {
   "codemirror_mode": {
    "name": "ipython",
    "version": 3
   },
   "file_extension": ".py",
   "mimetype": "text/x-python",
   "name": "python",
   "nbconvert_exporter": "python",
   "pygments_lexer": "ipython3",
   "version": "3.10.6"
  }
 },
 "nbformat": 4,
 "nbformat_minor": 5
}
