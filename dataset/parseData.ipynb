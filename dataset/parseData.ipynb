{
 "cells": [
  {
   "cell_type": "code",
   "execution_count": 1,
   "metadata": {
    "collapsed": false
   },
   "outputs": [
    {
     "name": "stdout",
     "output_type": "stream",
     "text": [
      "Done reading CSV file\n"
     ]
    }
   ],
   "source": [
    "# this notebook will read the csv file and convert it to json format\n",
    "# it also divides the dataset into training and evaluation sets.\n",
    "\n",
    "import csv\n",
    "import json\n",
    "import os\n",
    "from collections import defaultdict\n",
    "import ast\n",
    "\n",
    "csvfile = open('okcupid_profile_data.csv', 'r')\n",
    "jsonfile = open('temp_users.json', 'w')\n",
    "\n",
    "fieldnames = ('age','status','sex','orientation','body_type','diet','drinks','drugs','education','ethnicity','height','income','job','last_online','location','offspring','pets','religion','sign','smokes','speaks','essay0','essay1','essay2','essay3','essay4','essay5','essay6','essay7','essay8','essay9')\n",
    "reader = csv.DictReader( csvfile, fieldnames)\n",
    "next(reader)\n",
    "for row in reader:\n",
    "    json.dump(row, jsonfile)\n",
    "    jsonfile.write('\\n')\n",
    "    \n",
    "jsonfile.close()\n",
    "print ('Done reading CSV file')"
   ]
  },
  {
   "cell_type": "code",
   "execution_count": 2,
   "metadata": {
    "collapsed": false
   },
   "outputs": [
    {
     "name": "stdout",
     "output_type": "stream",
     "text": [
      "Removed dataset/temp_users.json\n",
      "Done Parsing. Data written to dataset/parsed_users.dict\n"
     ]
    }
   ],
   "source": [
    "outfile_training = open('users_training.json', 'w')\n",
    "outfile_evaluation = open('users_evaluation.json', 'w')\n",
    "\n",
    "users_json = []\n",
    "users_dict_training = defaultdict(dict)\n",
    "users_dict_evaluation = defaultdict(dict)\n",
    "\n",
    "essays = ['essay0', 'essay1', 'essay2', 'essay3', 'essay4', 'essay5', 'essay6', 'essay7', 'essay8', 'essay9']\n",
    "user_id = 0\n",
    "\n",
    "\n",
    "#read json file\n",
    "for line in open('temp_users.json', 'r'):\n",
    "    \n",
    "    u = ast.literal_eval(line)\n",
    "    \n",
    "    #remove fields we decide to ignore\n",
    "    # if 'location' in u: del u['location']\n",
    "    # if 'income' in u: del u['income']\n",
    "    # if 'offspring' in u: del u['offspring']\n",
    "    # if 'drugs' in u: del u['drugs']\n",
    "    # if 'job' in u: del u['job']\n",
    "    # if 'lastOnline' in u: del u['lastOnline']\n",
    "    #print u\n",
    "    \n",
    "    #clean up essay questions\n",
    "    for e in essays:\n",
    "        u[e] = u[e].replace('<br />', '')\n",
    "        u[e] = u[e].replace('\\n', ' ')\n",
    "    \n",
    "    #add user to dictionary\n",
    "    if (user_id < 2000):\n",
    "        users_dict_training[user_id]= u\n",
    "    users_dict_evaluation[user_id]= u\n",
    "    \n",
    "    user_id += 1;\n",
    "\n",
    "    \n",
    "# if '-1' in users_dict_training: del users_dict_training['-1']\n",
    "# if '27747' in users_dict_evaluation: del users_dict_evaluation['27747']\n",
    "# print (users_dict)\n",
    "\n",
    "json.dump(users_dict_training, outfile_training)\n",
    "json.dump(users_dict_evaluation, outfile_evaluation)\n",
    "\n",
    "outfile_training.close()\n",
    "outfile_evaluation.close()\n",
    "\n",
    "# os.remove('temp_users.json')\n",
    "print ('Removed dataset/temp_users.json')\n",
    "print ('Done Parsing. Data written to dataset/parsed_users.dict')\n"
   ]
  },
  {
   "cell_type": "code",
   "execution_count": 3,
   "metadata": {
    "collapsed": false
   },
   "outputs": [
    {
     "name": "stdout",
     "output_type": "stream",
     "text": [
      "{'age': '31', 'status': 'single', 'sex': 'm', 'orientation': 'straight', 'body_type': 'thin', 'diet': 'mostly anything', 'drinks': 'socially', 'drugs': 'never', 'education': '', 'ethnicity': 'white', 'height': '69.0', 'income': '-1', 'job': 'transportation', 'last_online': '2012-06-30-18-33', 'location': 'san francisco, california', 'offspring': '', 'pets': 'likes dogs', 'religion': 'agnosticism', 'sign': 'gemini but it doesn&rsquo;t matter', 'smokes': 'no', 'speaks': 'english', 'essay0': 'i am originally from southern california. i grew up in a desert town north of los angeles and since leaving there 9 or so years ago i have moved around a little bit. i lived in san diego a couple of times, spent some time in kentucky and lived in north carolina for a year. about a year and a half ago i moved up to the bay from san diego and feel i have found where i\\'m supposed to be. i made my first move into san francisco at the beginning of december and after 2 and a half weeks my building was damaged in a fire. not how i expected things to go...but i just moved into a new place and am not going to let a little speed bump detour me from living in this amazing city.  a few things about me; i enjoy strolling around this city and seeing all the odd and interesting aspects of it. i have taken up photography as a hobby, although i\\'m \"self-taught\". i get lucky with some shots and am trying to expand my knowledge and skills. i enjoy writing, although lately i find that most of my text is ranting about political or social issues online. i am trying to refocus on things that better reflect my ideas in the world of fiction. i love a good beer while watching a game, or sitting with some friends discussing different world theories. my attempts at running have been derailed lately, but i would like to get back into running shape. hiking is a huge highlight of my week lately. i feel free and relaxed bounding around the trails and what not. my friend is convinced that i\\'m some sort of elf with the way i come alive amongst the hills and trees. traveling, friends, family...i have a bevy of interests that i\\'m sure line up with many folks out there and enjoy discussing these things.', 'essay1': 'trying to enjoy it, then get ready to run tough mudder in september.', 'essay2': \"sarcasm? i've been told that i make strong arguments. i'm not very good at bragging. oh, i am pretty good at not planning my trips out very well. i usually pick a general destination and see if i can have something interesting happen. winging a trip to europe was a real example of skill.\", 'essay3': \"i'm not sure what the first thing people notice about me is, but when my age is revealed people are usually surprised. i'm told i look much younger.\", 'essay4': \"i enjoy christoper moore books. i read on the road by jack kerouac in 2010 and took off for a month driving around the country a few weeks later. i don't know what this says about me, but between that and into the wild i had to get out there. i enjoy reading memoirs of random people and plays.  i look for the odd movies to go along with the occasional blockbuster. see the fall if you get the chance. also, zombie films always seem to interest me.  my music tastes have expanded greatly since i was in high school. i find myself listening to contemporary folk and blues, but i still go back to the punk type rock of my angry and angst filled youth.  favorite food, the can eat it all the time kind of thing, hands down is spaghetti. i'm up for just about anything though, most of the time, but i'm haunted by food i had in europe...\", 'essay5': 'baseball friends family movies my truck some generic answer', 'essay6': 'learning french, how to ride a motorcycle and trying to remember what the rules for kickball are.', 'essay7': 'weighing the pros and cons of going out. when going out, i like trying out a new restaurant, bar or activity here in the city.', 'essay8': \"i don't drink coffee, which i find puts me at a disadvantage when setting up a casual meeting.\", 'essay9': ''}\n"
     ]
    }
   ],
   "source": [
    "# to read the file to \n",
    "import ast\n",
    "infile = open('users_evaluation.json', 'r')\n",
    "\n",
    "dictionary = ast.literal_eval(infile.readline())\n",
    "i = 7747\n",
    "print (dictionary[str(i)])\n",
    "infile.close()"
   ]
  }
 ],
 "metadata": {
  "anaconda-cloud": {},
  "kernelspec": {
   "display_name": "Python 3",
   "language": "python",
   "name": "python3"
  },
  "language_info": {
   "codemirror_mode": {
    "name": "ipython",
    "version": 3
   },
   "file_extension": ".py",
   "mimetype": "text/x-python",
   "name": "python",
   "nbconvert_exporter": "python",
   "pygments_lexer": "ipython3",
   "version": "3.9.7"
  }
 },
 "nbformat": 4,
 "nbformat_minor": 2
}
